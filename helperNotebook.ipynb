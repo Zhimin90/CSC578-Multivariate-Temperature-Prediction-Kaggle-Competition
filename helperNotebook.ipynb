{
 "cells": [
  {
   "cell_type": "code",
   "execution_count": 2,
   "metadata": {},
   "outputs": [],
   "source": [
    "import pandas as pd\n",
    "import numpy as np"
   ]
  },
  {
   "cell_type": "code",
   "execution_count": 3,
   "metadata": {},
   "outputs": [],
   "source": [
    "import pickle\n",
    "\n",
    "with open('validation_test.pickle', 'rb') as handle:\n",
    "    a = pickle.load(handle)\n",
    "(valid_X,valid_Y,test_X,test_Y) = a\n",
    "\n",
    "with open('scaler.pickle', 'rb') as handle:\n",
    "    scaler = pickle.load(handle)\n"
   ]
  },
  {
   "cell_type": "code",
   "execution_count": 4,
   "metadata": {},
   "outputs": [],
   "source": [
    "import tensorflow as tf\n",
    "import tensorflow.keras as keras\n",
    "from tensorflow.keras.models import Sequential\n",
    "from tensorflow.keras.layers import Dense, Dropout, LSTM\n",
    "import tensorflow.keras.layers as layers"
   ]
  },
  {
   "cell_type": "code",
   "execution_count": 124,
   "metadata": {},
   "outputs": [
    {
     "name": "stdout",
     "output_type": "stream",
     "text": [
      "WARNING:tensorflow:Sequential models without an `input_shape` passed to the first layer cannot reload their optimizer state. As a result, your model isstarting with a freshly initialized optimizer.\n",
      "Model: \"sequential_50\"\n",
      "_________________________________________________________________\n",
      "Layer (type)                 Output Shape              Param #   \n",
      "=================================================================\n",
      "bidirectional_4 (Bidirection multiple                  3312      \n",
      "_________________________________________________________________\n",
      "batch_normalization_118 (Bat multiple                  144       \n",
      "_________________________________________________________________\n",
      "bidirectional_5 (Bidirection multiple                  7920      \n",
      "_________________________________________________________________\n",
      "batch_normalization_119 (Bat multiple                  144       \n",
      "_________________________________________________________________\n",
      "dense_99 (Dense)             multiple                  1184      \n",
      "_________________________________________________________________\n",
      "batch_normalization_120 (Bat multiple                  128       \n",
      "_________________________________________________________________\n",
      "dropout_71 (Dropout)         multiple                  0         \n",
      "_________________________________________________________________\n",
      "dense_100 (Dense)            multiple                  1056      \n",
      "_________________________________________________________________\n",
      "batch_normalization_121 (Bat multiple                  128       \n",
      "_________________________________________________________________\n",
      "dropout_72 (Dropout)         multiple                  0         \n",
      "_________________________________________________________________\n",
      "dense_101 (Dense)            multiple                  33        \n",
      "=================================================================\n",
      "Total params: 14,049\n",
      "Trainable params: 13,777\n",
      "Non-trainable params: 272\n",
      "_________________________________________________________________\n"
     ]
    }
   ],
   "source": [
    "checkpoint_filepath = './checkpoints/'\n",
    "#load checkpoint model\n",
    "model_filename = ['run-0_20200603-180616_model.hdf5','run-0_20200603-174059_model.hdf5', 'run-0_20200603-170545_model.hdf5','run-0_20200531-151655_model.hdf5',\"run-0_20200531-144203_model.hdf5\"]\n",
    "model = tf.keras.models.load_model(checkpoint_filepath + model_filename[0])\n",
    "model.summary()"
   ]
  },
  {
   "cell_type": "code",
   "execution_count": 116,
   "metadata": {},
   "outputs": [
    {
     "name": "stdout",
     "output_type": "stream",
     "text": [
      "9547/9547 - 8s - loss: 0.0014 - mae: 0.0272\n",
      "valid_accuracy_MAE=0.027222563, valid_loss=0.0014464554635752658\n"
     ]
    }
   ],
   "source": [
    "valid_loss, valid_acc = model.evaluate(valid_X, valid_Y, verbose=2) # 5/2020 nt: use validation set\n",
    "print (\"valid_accuracy_MAE=%s, valid_loss=%s\" % (valid_acc, valid_loss))"
   ]
  },
  {
   "cell_type": "code",
   "execution_count": 8,
   "metadata": {},
   "outputs": [],
   "source": [
    "def padding(data, nopad):\n",
    "    flat = data.flatten()\n",
    "    padding = np.zeros((flat.shape[0],nopad))\n",
    "    for i,row in enumerate(padding):\n",
    "        padding[i,1] = flat[i]\n",
    "    print(padding.shape)\n",
    "    data_out = scaler.inverse_transform(padding)\n",
    "    return np.reshape(data_out, (int(data_out.shape[0]/data.shape[1]),data.shape[1],nopad))"
   ]
  },
  {
   "cell_type": "code",
   "execution_count": 118,
   "metadata": {},
   "outputs": [
    {
     "data": {
      "text/plain": [
       "(21984, 1)"
      ]
     },
     "execution_count": 118,
     "metadata": {},
     "output_type": "execute_result"
    }
   ],
   "source": [
    "pred = model.predict(test_X)\n",
    "pred.shape\n",
    "padded = padding(pred, 4)\n",
    "df = pd.read_csv('climate_hour.csv')\n",
    "get_index = df.iloc[-21984:]['Date Time'].values\n",
    "str_index = [index.replace(' ','_') for index in get_index]\n",
    "result_df = pd.DataFrame(padded[:,0,1], columns=['temperature'], index=str_index)\n",
    "result_df.index = result_df.index.rename('date_time')\n",
    "diff = result_df['temperature'].values - df.iloc[-21984:]['T (degC)'].values\n",
    "np.average(np.abs(diff))"
   ]
  },
  {
   "cell_type": "code",
   "execution_count": 105,
   "metadata": {},
   "outputs": [],
   "source": [
    "result_df.to_csv('results.csv')"
   ]
  },
  {
   "cell_type": "markdown",
   "metadata": {},
   "source": [
    "#### new LSTM model"
   ]
  },
  {
   "cell_type": "code",
   "execution_count": 209,
   "metadata": {
    "scrolled": false
   },
   "outputs": [
    {
     "name": "stdout",
     "output_type": "stream",
     "text": [
      "Model: \"sequential_133\"\n",
      "_________________________________________________________________\n",
      "Layer (type)                 Output Shape              Param #   \n",
      "=================================================================\n",
      "lstm_358 (LSTM)              (None, 48, 10)            600       \n",
      "_________________________________________________________________\n",
      "lstm_359 (LSTM)              (None, 48, 6)             408       \n",
      "_________________________________________________________________\n",
      "lstm_360 (LSTM)              (None, 1)                 32        \n",
      "_________________________________________________________________\n",
      "gaussian_noise_1 (GaussianNo (None, 1)                 0         \n",
      "_________________________________________________________________\n",
      "repeat_vector_39 (RepeatVect (None, 48, 1)             0         \n",
      "_________________________________________________________________\n",
      "lstm_361 (LSTM)              (None, 48, 48)            9600      \n",
      "_________________________________________________________________\n",
      "time_distributed_38 (TimeDis (None, 48, 1)             49        \n",
      "_________________________________________________________________\n",
      "flatten_33 (Flatten)         (None, 48)                0         \n",
      "_________________________________________________________________\n",
      "dense_245 (Dense)            (None, 1)                 49        \n",
      "=================================================================\n",
      "Total params: 10,738\n",
      "Trainable params: 10,738\n",
      "Non-trainable params: 0\n",
      "_________________________________________________________________\n"
     ]
    }
   ],
   "source": [
    "checkpoint_filepath = './checkpoints/'\n",
    "#load checkpoint model\n",
    "model_filename = ['_20200604-160756_model.hdf5','_20200604-160310_model.hdf5','_20200604-154549_model.hdf5','_20200604-152527_model.hdf5','_20200604-145243_model.hdf5','_20200604-134707_model.hdf5','best_model.hdf5','run-0_20200603-180616_model.hdf5','run-0_20200603-174059_model.hdf5', 'run-0_20200603-170545_model.hdf5','run-0_20200531-151655_model.hdf5',\"run-0_20200531-144203_model.hdf5\"]\n",
    "model2 = tf.keras.models.load_model(checkpoint_filepath + model_filename[0])\n",
    "model2.summary()"
   ]
  },
  {
   "cell_type": "code",
   "execution_count": 210,
   "metadata": {},
   "outputs": [
    {
     "name": "stdout",
     "output_type": "stream",
     "text": [
      "9547/9547 - 7s - loss: 0.0012 - mae: 0.0259\n",
      "valid_accuracy_MAE=0.025920218, valid_loss=0.0011677236298833818\n"
     ]
    }
   ],
   "source": [
    "valid_loss, valid_acc = model2.evaluate(valid_X, valid_Y, verbose=2) # 5/2020 nt: use validation set\n",
    "print (\"valid_accuracy_MAE=%s, valid_loss=%s\" % (valid_acc, valid_loss))"
   ]
  },
  {
   "cell_type": "markdown",
   "metadata": {},
   "source": [
    "### 1.56"
   ]
  },
  {
   "cell_type": "code",
   "execution_count": 211,
   "metadata": {},
   "outputs": [
    {
     "name": "stdout",
     "output_type": "stream",
     "text": [
      "(21984, 4)\n"
     ]
    },
    {
     "data": {
      "text/plain": [
       "1.5816080175659024"
      ]
     },
     "execution_count": 211,
     "metadata": {},
     "output_type": "execute_result"
    }
   ],
   "source": [
    "pred = model2.predict(test_X)\n",
    "pred.shape\n",
    "padded = padding(pred, 4)\n",
    "df = pd.read_csv('climate_hour.csv')\n",
    "get_index = df.iloc[-21984:]['Date Time'].values\n",
    "str_index = [index.replace(' ','_') for index in get_index]\n",
    "result_df = pd.DataFrame(padded[:,0,1], columns=['temperature'], index=str_index)\n",
    "result_df.index = result_df.index.rename('date_time')\n",
    "diff = result_df['temperature'].values - df.iloc[-21984:]['T (degC)'].values\n",
    "np.average(np.abs(diff))"
   ]
  },
  {
   "cell_type": "markdown",
   "metadata": {},
   "source": [
    "#### 1.5515798884664904"
   ]
  },
  {
   "cell_type": "code",
   "execution_count": 205,
   "metadata": {},
   "outputs": [],
   "source": [
    "#result_df.to_csv('results2.csv')"
   ]
  },
  {
   "cell_type": "code",
   "execution_count": 32,
   "metadata": {},
   "outputs": [
    {
     "name": "stdout",
     "output_type": "stream",
     "text": [
      "Model: \"sequential_16\"\n",
      "_________________________________________________________________\n",
      "Layer (type)                 Output Shape              Param #   \n",
      "=================================================================\n",
      "lstm_66 (LSTM)               (None, 48, 20)            2000      \n",
      "_________________________________________________________________\n",
      "lstm_67 (LSTM)               (None, 48, 12)            1584      \n",
      "_________________________________________________________________\n",
      "lstm_68 (LSTM)               (None, 2)                 120       \n",
      "_________________________________________________________________\n",
      "repeat_vector_15 (RepeatVect (None, 48, 2)             0         \n",
      "_________________________________________________________________\n",
      "lstm_69 (LSTM)               (None, 48, 48)            9792      \n",
      "_________________________________________________________________\n",
      "time_distributed_15 (TimeDis (None, 48, 1)             49        \n",
      "_________________________________________________________________\n",
      "dropout (Dropout)            (None, 48, 1)             0         \n",
      "_________________________________________________________________\n",
      "flatten_14 (Flatten)         (None, 48)                0         \n",
      "_________________________________________________________________\n",
      "dense_30 (Dense)             (None, 1)                 49        \n",
      "=================================================================\n",
      "Total params: 13,594\n",
      "Trainable params: 13,594\n",
      "Non-trainable params: 0\n",
      "_________________________________________________________________\n"
     ]
    }
   ],
   "source": [
    "checkpoint_filepath = './checkpoints/'\n",
    "#load checkpoint model\n",
    "model_filename = ['_20200605-153441_model.hdf5','_20200604-170111_model.hdf5','_20200604-160756_model.hdf5','_20200604-160310_model.hdf5','_20200604-154549_model.hdf5','_20200604-152527_model.hdf5','_20200604-145243_model.hdf5','_20200604-134707_model.hdf5','best_model.hdf5','run-0_20200603-180616_model.hdf5','run-0_20200603-174059_model.hdf5', 'run-0_20200603-170545_model.hdf5','run-0_20200531-151655_model.hdf5',\"run-0_20200531-144203_model.hdf5\"]\n",
    "model3 = tf.keras.models.load_model(checkpoint_filepath + model_filename[0])\n",
    "model3.summary()"
   ]
  },
  {
   "cell_type": "code",
   "execution_count": 33,
   "metadata": {},
   "outputs": [
    {
     "name": "stdout",
     "output_type": "stream",
     "text": [
      "9547/9547 - 7s - loss: 0.0257 - mae: 0.0257\n",
      "valid_accuracy_MAE=0.025678743, valid_loss=0.025678738899785735\n"
     ]
    }
   ],
   "source": [
    "valid_loss, valid_acc = model3.evaluate(valid_X, valid_Y, verbose=2) # 5/2020 nt: use validation set\n",
    "print (\"valid_accuracy_MAE=%s, valid_loss=%s\" % (valid_acc, valid_loss))"
   ]
  },
  {
   "cell_type": "code",
   "execution_count": 34,
   "metadata": {},
   "outputs": [
    {
     "name": "stdout",
     "output_type": "stream",
     "text": [
      "(21984, 4)\n"
     ]
    },
    {
     "data": {
      "text/plain": [
       "1.538613192959644"
      ]
     },
     "execution_count": 34,
     "metadata": {},
     "output_type": "execute_result"
    }
   ],
   "source": [
    "pred = model3.predict(test_X)\n",
    "pred.shape\n",
    "padded = padding(pred, 4)\n",
    "df = pd.read_csv('climate_hour.csv')\n",
    "get_index = df.iloc[-21984:]['Date Time'].values\n",
    "str_index = [index.replace(' ','_') for index in get_index]\n",
    "result_df = pd.DataFrame(padded[:,0,1], columns=['temperature'], index=str_index)\n",
    "result_df.index = result_df.index.rename('date_time')\n",
    "diff = result_df['temperature'].values - df.iloc[-21984:]['T (degC)'].values\n",
    "np.average(np.abs(diff))"
   ]
  },
  {
   "cell_type": "code",
   "execution_count": 35,
   "metadata": {},
   "outputs": [],
   "source": [
    "result_df.to_csv('results.csv')"
   ]
  },
  {
   "cell_type": "code",
   "execution_count": null,
   "metadata": {},
   "outputs": [],
   "source": []
  }
 ],
 "metadata": {
  "kernelspec": {
   "display_name": "Python [conda env:venv]",
   "language": "python",
   "name": "conda-env-venv-py"
  },
  "language_info": {
   "codemirror_mode": {
    "name": "ipython",
    "version": 3
   },
   "file_extension": ".py",
   "mimetype": "text/x-python",
   "name": "python",
   "nbconvert_exporter": "python",
   "pygments_lexer": "ipython3",
   "version": "3.7.6"
  }
 },
 "nbformat": 4,
 "nbformat_minor": 4
}
